{
 "cells": [
  {
   "cell_type": "code",
   "execution_count": 11,
   "id": "f702c4ab-2bff-4538-badb-43ed9391a471",
   "metadata": {
    "tags": []
   },
   "outputs": [],
   "source": [
    "import pandas as pd\n",
    "import numpy as np\n",
    "import matplotlib.pyplot as plt"
   ]
  },
  {
   "cell_type": "code",
   "execution_count": 2,
   "id": "59d8f5c8-f2de-40ea-8ffb-f33e00e18437",
   "metadata": {
    "tags": []
   },
   "outputs": [],
   "source": [
    "pred_results_stratified = pd.read_csv(\"prediction_result/bert_stratified_pred_analysis.csv\")"
   ]
  },
  {
   "cell_type": "code",
   "execution_count": 3,
   "id": "190c13c4-7c8f-46dd-9ded-efa5073b8a9f",
   "metadata": {
    "tags": []
   },
   "outputs": [
    {
     "data": {
      "text/html": [
       "<div>\n",
       "<style scoped>\n",
       "    .dataframe tbody tr th:only-of-type {\n",
       "        vertical-align: middle;\n",
       "    }\n",
       "\n",
       "    .dataframe tbody tr th {\n",
       "        vertical-align: top;\n",
       "    }\n",
       "\n",
       "    .dataframe thead th {\n",
       "        text-align: right;\n",
       "    }\n",
       "</style>\n",
       "<table border=\"1\" class=\"dataframe\">\n",
       "  <thead>\n",
       "    <tr style=\"text-align: right;\">\n",
       "      <th></th>\n",
       "      <th>Unnamed: 0</th>\n",
       "      <th>Full Review</th>\n",
       "      <th>Predicted</th>\n",
       "      <th>Actual</th>\n",
       "      <th>Highest Probability</th>\n",
       "    </tr>\n",
       "  </thead>\n",
       "  <tbody>\n",
       "    <tr>\n",
       "      <th>0</th>\n",
       "      <td>0</td>\n",
       "      <td>very fun game, good graphics and realistic dri...</td>\n",
       "      <td>4</td>\n",
       "      <td>4</td>\n",
       "      <td>0.606299</td>\n",
       "    </tr>\n",
       "    <tr>\n",
       "      <th>1</th>\n",
       "      <td>1</td>\n",
       "      <td>Awesome Case I really like this case. When I w...</td>\n",
       "      <td>4</td>\n",
       "      <td>4</td>\n",
       "      <td>0.485208</td>\n",
       "    </tr>\n",
       "    <tr>\n",
       "      <th>2</th>\n",
       "      <td>2</td>\n",
       "      <td>Great game</td>\n",
       "      <td>4</td>\n",
       "      <td>4</td>\n",
       "      <td>0.906231</td>\n",
       "    </tr>\n",
       "    <tr>\n",
       "      <th>3</th>\n",
       "      <td>3</td>\n",
       "      <td>I ordered this by mistake thinking that I was ...</td>\n",
       "      <td>4</td>\n",
       "      <td>4</td>\n",
       "      <td>0.909810</td>\n",
       "    </tr>\n",
       "    <tr>\n",
       "      <th>4</th>\n",
       "      <td>4</td>\n",
       "      <td>The game is very generic but fun my husband lo...</td>\n",
       "      <td>4</td>\n",
       "      <td>3</td>\n",
       "      <td>0.893876</td>\n",
       "    </tr>\n",
       "    <tr>\n",
       "      <th>...</th>\n",
       "      <td>...</td>\n",
       "      <td>...</td>\n",
       "      <td>...</td>\n",
       "      <td>...</td>\n",
       "      <td>...</td>\n",
       "    </tr>\n",
       "    <tr>\n",
       "      <th>165478</th>\n",
       "      <td>165478</td>\n",
       "      <td>Works perfectly.</td>\n",
       "      <td>4</td>\n",
       "      <td>4</td>\n",
       "      <td>0.958228</td>\n",
       "    </tr>\n",
       "    <tr>\n",
       "      <th>165479</th>\n",
       "      <td>165479</td>\n",
       "      <td>Great! Exactly as described! Perfect for my Xb...</td>\n",
       "      <td>4</td>\n",
       "      <td>4</td>\n",
       "      <td>0.979020</td>\n",
       "    </tr>\n",
       "    <tr>\n",
       "      <th>165480</th>\n",
       "      <td>165480</td>\n",
       "      <td>Works perfectly.</td>\n",
       "      <td>4</td>\n",
       "      <td>4</td>\n",
       "      <td>0.958228</td>\n",
       "    </tr>\n",
       "    <tr>\n",
       "      <th>165481</th>\n",
       "      <td>165481</td>\n",
       "      <td>Play it for the fun not the story. This is a f...</td>\n",
       "      <td>3</td>\n",
       "      <td>2</td>\n",
       "      <td>0.536065</td>\n",
       "    </tr>\n",
       "    <tr>\n",
       "      <th>165482</th>\n",
       "      <td>165482</td>\n",
       "      <td>Amazing Absolutely amazing my only complaint i...</td>\n",
       "      <td>4</td>\n",
       "      <td>4</td>\n",
       "      <td>0.891743</td>\n",
       "    </tr>\n",
       "  </tbody>\n",
       "</table>\n",
       "<p>165483 rows × 5 columns</p>\n",
       "</div>"
      ],
      "text/plain": [
       "        Unnamed: 0                                        Full Review  \\\n",
       "0                0  very fun game, good graphics and realistic dri...   \n",
       "1                1  Awesome Case I really like this case. When I w...   \n",
       "2                2                                         Great game   \n",
       "3                3  I ordered this by mistake thinking that I was ...   \n",
       "4                4  The game is very generic but fun my husband lo...   \n",
       "...            ...                                                ...   \n",
       "165478      165478                                   Works perfectly.   \n",
       "165479      165479  Great! Exactly as described! Perfect for my Xb...   \n",
       "165480      165480                                   Works perfectly.   \n",
       "165481      165481  Play it for the fun not the story. This is a f...   \n",
       "165482      165482  Amazing Absolutely amazing my only complaint i...   \n",
       "\n",
       "        Predicted  Actual  Highest Probability  \n",
       "0               4       4             0.606299  \n",
       "1               4       4             0.485208  \n",
       "2               4       4             0.906231  \n",
       "3               4       4             0.909810  \n",
       "4               4       3             0.893876  \n",
       "...           ...     ...                  ...  \n",
       "165478          4       4             0.958228  \n",
       "165479          4       4             0.979020  \n",
       "165480          4       4             0.958228  \n",
       "165481          3       2             0.536065  \n",
       "165482          4       4             0.891743  \n",
       "\n",
       "[165483 rows x 5 columns]"
      ]
     },
     "execution_count": 3,
     "metadata": {},
     "output_type": "execute_result"
    }
   ],
   "source": [
    "pred_results_stratified"
   ]
  },
  {
   "cell_type": "code",
   "execution_count": 9,
   "id": "69efd912-b0d7-451c-ae32-c231c5d390c7",
   "metadata": {
    "tags": []
   },
   "outputs": [],
   "source": [
    "wrong_preds = pred_results_stratified[pred_results_stratified['Predicted'] != pred_results_stratified['Actual']].sort_values(by='Highest Probability')"
   ]
  },
  {
   "cell_type": "code",
   "execution_count": 14,
   "id": "3bb37072-2fe9-480c-9a9d-a13d329bd926",
   "metadata": {
    "tags": []
   },
   "outputs": [
    {
     "data": {
      "image/png": "[encoded data removed]",
      "text/plain": [
       "<Figure size 640x480 with 1 Axes>"
      ]
     },
     "metadata": {},
     "output_type": "display_data"
    }
   ],
   "source": [
    "predicted_counts = wrong_preds['Predicted'].value_counts()\n",
    "actual_counts = wrong_preds['Actual'].value_counts()\n",
    "\n",
    "# Merge the predicted and actual counts into a single DataFrame\n",
    "comparison_df = pd.DataFrame({'Predicted': predicted_counts, 'Actual': actual_counts})\n",
    "\n",
    "# Plot the bar chart\n",
    "comparison_df.plot(kind='bar')\n",
    "plt.xlabel('Labels')\n",
    "plt.ylabel('Count')\n",
    "plt.title('Predicted vs. Actual Labels')\n",
    "plt.legend()\n",
    "plt.show()"
   ]
  },
  {
   "cell_type": "code",
   "execution_count": 44,
   "id": "5ffcfdeb-55c8-4c3a-bff7-9319431dd655",
   "metadata": {
    "tags": []
   },
   "outputs": [
    {
     "data": {
      "image/png": "[encoded data removed]",
      "text/plain": [
       "<Figure size 640x480 with 1 Axes>"
      ]
     },
     "metadata": {},
     "output_type": "display_data"
    }
   ],
   "source": [
    "import matplotlib.pyplot as plt\n",
    "\n",
    "highest_probabilities = wrong_preds['Highest Probability']\n",
    "\n",
    "plt.hist(highest_probabilities, bins=10, edgecolor='black')\n",
    "plt.xlabel('Probability')\n",
    "plt.ylabel('Frequency')\n",
    "plt.title('Distribution of Highest Probabilities With Incorrect Predictions')\n",
    "plt.show()\n"
   ]
  },
  {
   "cell_type": "code",
   "execution_count": 47,
   "id": "49f7c874-4e8b-4586-8693-623332fbde97",
   "metadata": {
    "tags": []
   },
   "outputs": [
    {
     "data": {
      "text/plain": [
       "8377"
      ]
     },
     "execution_count": 47,
     "metadata": {},
     "output_type": "execute_result"
    }
   ],
   "source": [
    "# number of incorrect prediction wher the predicted label differs from the actual label by more than 1\n",
    "diff_greater_than_threshold = wrong_preds[abs(wrong_preds['Predicted'] - wrong_preds['Actual']) > 1]\n",
    "len(diff_greater_than_threshold)"
   ]
  },
  {
   "cell_type": "code",
   "execution_count": 26,
   "id": "9af10cab-d249-4081-977e-8fdb8533984e",
   "metadata": {
    "tags": []
   },
   "outputs": [
    {
     "data": {
      "text/html": [
       "<div>\n",
       "<style scoped>\n",
       "    .dataframe tbody tr th:only-of-type {\n",
       "        vertical-align: middle;\n",
       "    }\n",
       "\n",
       "    .dataframe tbody tr th {\n",
       "        vertical-align: top;\n",
       "    }\n",
       "\n",
       "    .dataframe thead th {\n",
       "        text-align: right;\n",
       "    }\n",
       "</style>\n",
       "<table border=\"1\" class=\"dataframe\">\n",
       "  <thead>\n",
       "    <tr style=\"text-align: right;\">\n",
       "      <th></th>\n",
       "      <th>Unnamed: 0</th>\n",
       "      <th>Full Review</th>\n",
       "      <th>Predicted</th>\n",
       "      <th>Actual</th>\n",
       "      <th>Highest Probability</th>\n",
       "    </tr>\n",
       "  </thead>\n",
       "  <tbody>\n",
       "    <tr>\n",
       "      <th>21302</th>\n",
       "      <td>21302</td>\n",
       "      <td>This thing sounds amazing! One of the best hea...</td>\n",
       "      <td>4</td>\n",
       "      <td>3</td>\n",
       "      <td>0.987897</td>\n",
       "    </tr>\n",
       "  </tbody>\n",
       "</table>\n",
       "</div>"
      ],
      "text/plain": [
       "       Unnamed: 0                                        Full Review  \\\n",
       "21302       21302  This thing sounds amazing! One of the best hea...   \n",
       "\n",
       "       Predicted  Actual  Highest Probability  \n",
       "21302          4       3             0.987897  "
      ]
     },
     "execution_count": 26,
     "metadata": {},
     "output_type": "execute_result"
    }
   ],
   "source": [
    "# review with highest probability (confidence) but incorrectly predicted\n",
    "wrong_preds[wrong_preds['Unnamed: 0'] == 21302]"
   ]
  },
  {
   "cell_type": "code",
   "execution_count": 28,
   "id": "4a650170-e239-4615-8ff0-a01a4e6b9bf1",
   "metadata": {
    "tags": []
   },
   "outputs": [
    {
     "data": {
      "text/html": [
       "<div>\n",
       "<style scoped>\n",
       "    .dataframe tbody tr th:only-of-type {\n",
       "        vertical-align: middle;\n",
       "    }\n",
       "\n",
       "    .dataframe tbody tr th {\n",
       "        vertical-align: top;\n",
       "    }\n",
       "\n",
       "    .dataframe thead th {\n",
       "        text-align: right;\n",
       "    }\n",
       "</style>\n",
       "<table border=\"1\" class=\"dataframe\">\n",
       "  <thead>\n",
       "    <tr style=\"text-align: right;\">\n",
       "      <th></th>\n",
       "      <th>Unnamed: 0</th>\n",
       "      <th>Full Review</th>\n",
       "      <th>Predicted</th>\n",
       "      <th>Actual</th>\n",
       "      <th>Highest Probability</th>\n",
       "    </tr>\n",
       "  </thead>\n",
       "  <tbody>\n",
       "    <tr>\n",
       "      <th>125260</th>\n",
       "      <td>125260</td>\n",
       "      <td>The game isn't bad for a bunch of unrelated mu...</td>\n",
       "      <td>1</td>\n",
       "      <td>2</td>\n",
       "      <td>0.225085</td>\n",
       "    </tr>\n",
       "  </tbody>\n",
       "</table>\n",
       "</div>"
      ],
      "text/plain": [
       "        Unnamed: 0                                        Full Review  \\\n",
       "125260      125260  The game isn't bad for a bunch of unrelated mu...   \n",
       "\n",
       "        Predicted  Actual  Highest Probability  \n",
       "125260          1       2             0.225085  "
      ]
     },
     "execution_count": 28,
     "metadata": {},
     "output_type": "execute_result"
    }
   ],
   "source": [
    "# review with the lowest confidence and incorrectly predicted\n",
    "wrong_preds[wrong_preds['Unnamed: 0'] == 125260]"
   ]
  },
  {
   "cell_type": "code",
   "execution_count": 40,
   "id": "e8870b6f-0b0a-48bd-8ce1-740814887d7d",
   "metadata": {
    "tags": []
   },
   "outputs": [
    {
     "data": {
      "text/html": [
       "<div>\n",
       "<style scoped>\n",
       "    .dataframe tbody tr th:only-of-type {\n",
       "        vertical-align: middle;\n",
       "    }\n",
       "\n",
       "    .dataframe tbody tr th {\n",
       "        vertical-align: top;\n",
       "    }\n",
       "\n",
       "    .dataframe thead th {\n",
       "        text-align: right;\n",
       "    }\n",
       "</style>\n",
       "<table border=\"1\" class=\"dataframe\">\n",
       "  <thead>\n",
       "    <tr style=\"text-align: right;\">\n",
       "      <th></th>\n",
       "      <th>Unnamed: 0</th>\n",
       "      <th>Full Review</th>\n",
       "      <th>Predicted</th>\n",
       "      <th>Actual</th>\n",
       "      <th>Highest Probability</th>\n",
       "    </tr>\n",
       "  </thead>\n",
       "  <tbody>\n",
       "    <tr>\n",
       "      <th>10436</th>\n",
       "      <td>10436</td>\n",
       "      <td>did not come with power cord My order was righ...</td>\n",
       "      <td>2</td>\n",
       "      <td>1</td>\n",
       "      <td>0.450022</td>\n",
       "    </tr>\n",
       "    <tr>\n",
       "      <th>62775</th>\n",
       "      <td>62775</td>\n",
       "      <td>This piece of technology feels a lot like that...</td>\n",
       "      <td>2</td>\n",
       "      <td>1</td>\n",
       "      <td>0.450026</td>\n",
       "    </tr>\n",
       "    <tr>\n",
       "      <th>122414</th>\n",
       "      <td>122414</td>\n",
       "      <td>Otherwise fine. The cord came out. had to unsc...</td>\n",
       "      <td>1</td>\n",
       "      <td>2</td>\n",
       "      <td>0.450046</td>\n",
       "    </tr>\n",
       "    <tr>\n",
       "      <th>140997</th>\n",
       "      <td>140997</td>\n",
       "      <td>Ridoculous Rubber I tried them out with a raci...</td>\n",
       "      <td>2</td>\n",
       "      <td>1</td>\n",
       "      <td>0.450064</td>\n",
       "    </tr>\n",
       "    <tr>\n",
       "      <th>19477</th>\n",
       "      <td>19477</td>\n",
       "      <td>I've played it on a friends system - and hones...</td>\n",
       "      <td>1</td>\n",
       "      <td>0</td>\n",
       "      <td>0.450067</td>\n",
       "    </tr>\n",
       "    <tr>\n",
       "      <th>...</th>\n",
       "      <td>...</td>\n",
       "      <td>...</td>\n",
       "      <td>...</td>\n",
       "      <td>...</td>\n",
       "      <td>...</td>\n",
       "    </tr>\n",
       "    <tr>\n",
       "      <th>45252</th>\n",
       "      <td>45252</td>\n",
       "      <td>A solid product by itself, but it didn't fit ....</td>\n",
       "      <td>2</td>\n",
       "      <td>1</td>\n",
       "      <td>0.549941</td>\n",
       "    </tr>\n",
       "    <tr>\n",
       "      <th>132799</th>\n",
       "      <td>132799</td>\n",
       "      <td>Meh If you have gotten tired of all of your ot...</td>\n",
       "      <td>3</td>\n",
       "      <td>2</td>\n",
       "      <td>0.549947</td>\n",
       "    </tr>\n",
       "    <tr>\n",
       "      <th>46400</th>\n",
       "      <td>46400</td>\n",
       "      <td>good game. It came to me just when I expected ...</td>\n",
       "      <td>3</td>\n",
       "      <td>4</td>\n",
       "      <td>0.549951</td>\n",
       "    </tr>\n",
       "    <tr>\n",
       "      <th>49404</th>\n",
       "      <td>49404</td>\n",
       "      <td>... knew before I bought this that it would be...</td>\n",
       "      <td>2</td>\n",
       "      <td>1</td>\n",
       "      <td>0.549975</td>\n",
       "    </tr>\n",
       "    <tr>\n",
       "      <th>152071</th>\n",
       "      <td>152071</td>\n",
       "      <td>poor quality Battery pack constantly disconnec...</td>\n",
       "      <td>1</td>\n",
       "      <td>0</td>\n",
       "      <td>0.549975</td>\n",
       "    </tr>\n",
       "  </tbody>\n",
       "</table>\n",
       "<p>8310 rows × 5 columns</p>\n",
       "</div>"
      ],
      "text/plain": [
       "        Unnamed: 0                                        Full Review  \\\n",
       "10436        10436  did not come with power cord My order was righ...   \n",
       "62775        62775  This piece of technology feels a lot like that...   \n",
       "122414      122414  Otherwise fine. The cord came out. had to unsc...   \n",
       "140997      140997  Ridoculous Rubber I tried them out with a raci...   \n",
       "19477        19477  I've played it on a friends system - and hones...   \n",
       "...            ...                                                ...   \n",
       "45252        45252  A solid product by itself, but it didn't fit ....   \n",
       "132799      132799  Meh If you have gotten tired of all of your ot...   \n",
       "46400        46400  good game. It came to me just when I expected ...   \n",
       "49404        49404  ... knew before I bought this that it would be...   \n",
       "152071      152071  poor quality Battery pack constantly disconnec...   \n",
       "\n",
       "        Predicted  Actual  Highest Probability  \n",
       "10436           2       1             0.450022  \n",
       "62775           2       1             0.450026  \n",
       "122414          1       2             0.450046  \n",
       "140997          2       1             0.450064  \n",
       "19477           1       0             0.450067  \n",
       "...           ...     ...                  ...  \n",
       "45252           2       1             0.549941  \n",
       "132799          3       2             0.549947  \n",
       "46400           3       4             0.549951  \n",
       "49404           2       1             0.549975  \n",
       "152071          1       0             0.549975  \n",
       "\n",
       "[8310 rows x 5 columns]"
      ]
     },
     "execution_count": 40,
     "metadata": {},
     "output_type": "execute_result"
    }
   ],
   "source": [
    "# predictions where the model was unsure (confidence between 0.45 and 0.55)\n",
    "threshold = 0.5\n",
    "wrong_preds[wrong_preds['Highest Probability'].between(threshold - 0.05, threshold + 0.05)]"
   ]
  },
  {
   "cell_type": "code",
   "execution_count": 41,
   "id": "1d5a5b55-7a4e-459f-ab03-4183f7255529",
   "metadata": {
    "tags": []
   },
   "outputs": [
    {
     "data": {
      "text/html": [
       "<div>\n",
       "<style scoped>\n",
       "    .dataframe tbody tr th:only-of-type {\n",
       "        vertical-align: middle;\n",
       "    }\n",
       "\n",
       "    .dataframe tbody tr th {\n",
       "        vertical-align: top;\n",
       "    }\n",
       "\n",
       "    .dataframe thead th {\n",
       "        text-align: right;\n",
       "    }\n",
       "</style>\n",
       "<table border=\"1\" class=\"dataframe\">\n",
       "  <thead>\n",
       "    <tr style=\"text-align: right;\">\n",
       "      <th></th>\n",
       "      <th>Unnamed: 0</th>\n",
       "      <th>Full Review</th>\n",
       "      <th>Predicted</th>\n",
       "      <th>Actual</th>\n",
       "      <th>Highest Probability</th>\n",
       "    </tr>\n",
       "  </thead>\n",
       "  <tbody>\n",
       "    <tr>\n",
       "      <th>132799</th>\n",
       "      <td>132799</td>\n",
       "      <td>Meh If you have gotten tired of all of your ot...</td>\n",
       "      <td>3</td>\n",
       "      <td>2</td>\n",
       "      <td>0.549947</td>\n",
       "    </tr>\n",
       "  </tbody>\n",
       "</table>\n",
       "</div>"
      ],
      "text/plain": [
       "        Unnamed: 0                                        Full Review  \\\n",
       "132799      132799  Meh If you have gotten tired of all of your ot...   \n",
       "\n",
       "        Predicted  Actual  Highest Probability  \n",
       "132799          3       2             0.549947  "
      ]
     },
     "execution_count": 41,
     "metadata": {},
     "output_type": "execute_result"
    }
   ],
   "source": [
    "# one unsure prediction\n",
    "wrong_preds[wrong_preds['Unnamed: 0'] == 132799]"
   ]
  }
 ],
 "metadata": {
  "kernelspec": {
   "display_name": "Python 3 (ipykernel)",
   "language": "python",
   "name": "python3"
  },
  "language_info": {
   "codemirror_mode": {
    "name": "ipython",
    "version": 3
   },
   "file_extension": ".py",
   "mimetype": "text/x-python",
   "name": "python",
   "nbconvert_exporter": "python",
   "pygments_lexer": "ipython3",
   "version": "3.9.7"
  }
 },
 "nbformat": 4,
 "nbformat_minor": 5
}
