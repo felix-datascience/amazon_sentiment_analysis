{
 "cells": [
  {
   "cell_type": "markdown",
   "id": "25286a0a",
   "metadata": {},
   "source": [
    "# Preprocessing\n",
    "\n",
    "This notebook contains some general preprocessing steps that are usefull regardless of the model approach. The resulting datasets are stored and can be used for training and evaluation."
   ]
  },
  {
   "cell_type": "code",
   "execution_count": 1,
   "id": "a29d2c11",
   "metadata": {},
   "outputs": [],
   "source": [
    "import pandas as pd\n",
    "from datetime import datetime\n",
    "from sklearn.model_selection import StratifiedShuffleSplit\n",
    "from sklearn.model_selection import train_test_split\n",
    "import matplotlib.pyplot as plt"
   ]
  },
  {
   "cell_type": "markdown",
   "id": "7d2f957a",
   "metadata": {},
   "source": [
    "### Load Data"
   ]
  },
  {
   "cell_type": "code",
   "execution_count": 2,
   "id": "4d16ae2e",
   "metadata": {},
   "outputs": [],
   "source": [
    "# download dataset\n",
    "# !curl -X GET https://s3.amazonaws.com/amazon-reviews-pds/tsv/amazon_reviews_us_Video_Games_v1_00.tsv.gz -o data/video_games.tsv.gz"
   ]
  },
  {
   "cell_type": "code",
   "execution_count": 3,
   "id": "3b2be62a",
   "metadata": {},
   "outputs": [
    {
     "data": {
      "text/html": [
       "<div>\n",
       "<style scoped>\n",
       "    .dataframe tbody tr th:only-of-type {\n",
       "        vertical-align: middle;\n",
       "    }\n",
       "\n",
       "    .dataframe tbody tr th {\n",
       "        vertical-align: top;\n",
       "    }\n",
       "\n",
       "    .dataframe thead th {\n",
       "        text-align: right;\n",
       "    }\n",
       "</style>\n",
       "<table border=\"1\" class=\"dataframe\">\n",
       "  <thead>\n",
       "    <tr style=\"text-align: right;\">\n",
       "      <th></th>\n",
       "      <th>marketplace</th>\n",
       "      <th>customer_id</th>\n",
       "      <th>review_id</th>\n",
       "      <th>product_id</th>\n",
       "      <th>product_parent</th>\n",
       "      <th>product_title</th>\n",
       "      <th>product_category</th>\n",
       "      <th>star_rating</th>\n",
       "      <th>helpful_votes</th>\n",
       "      <th>total_votes</th>\n",
       "      <th>vine</th>\n",
       "      <th>verified_purchase</th>\n",
       "      <th>review_headline</th>\n",
       "      <th>review_body</th>\n",
       "      <th>review_date</th>\n",
       "    </tr>\n",
       "  </thead>\n",
       "  <tbody>\n",
       "    <tr>\n",
       "      <th>0</th>\n",
       "      <td>US</td>\n",
       "      <td>12039526</td>\n",
       "      <td>RTIS3L2M1F5SM</td>\n",
       "      <td>B001CXYMFS</td>\n",
       "      <td>737716809</td>\n",
       "      <td>Thrustmaster T-Flight Hotas X Flight Stick</td>\n",
       "      <td>Video Games</td>\n",
       "      <td>5</td>\n",
       "      <td>0</td>\n",
       "      <td>0</td>\n",
       "      <td>N</td>\n",
       "      <td>Y</td>\n",
       "      <td>an amazing joystick. I especially love that yo...</td>\n",
       "      <td>Used this for Elite Dangerous on my mac, an am...</td>\n",
       "      <td>2015-08-31</td>\n",
       "    </tr>\n",
       "    <tr>\n",
       "      <th>1</th>\n",
       "      <td>US</td>\n",
       "      <td>9636577</td>\n",
       "      <td>R1ZV7R40OLHKD</td>\n",
       "      <td>B00M920ND6</td>\n",
       "      <td>569686175</td>\n",
       "      <td>Tonsee 6 buttons Wireless Optical Silent Gamin...</td>\n",
       "      <td>Video Games</td>\n",
       "      <td>5</td>\n",
       "      <td>0</td>\n",
       "      <td>0</td>\n",
       "      <td>N</td>\n",
       "      <td>Y</td>\n",
       "      <td>Definitely a silent mouse... Not a single clic...</td>\n",
       "      <td>Loved it,  I didn't even realise it was a gami...</td>\n",
       "      <td>2015-08-31</td>\n",
       "    </tr>\n",
       "    <tr>\n",
       "      <th>2</th>\n",
       "      <td>US</td>\n",
       "      <td>2331478</td>\n",
       "      <td>R3BH071QLH8QMC</td>\n",
       "      <td>B0029CSOD2</td>\n",
       "      <td>98937668</td>\n",
       "      <td>Hidden Mysteries: Titanic Secrets of the Fatef...</td>\n",
       "      <td>Video Games</td>\n",
       "      <td>1</td>\n",
       "      <td>0</td>\n",
       "      <td>1</td>\n",
       "      <td>N</td>\n",
       "      <td>Y</td>\n",
       "      <td>One Star</td>\n",
       "      <td>poor quality work and not as it is advertised.</td>\n",
       "      <td>2015-08-31</td>\n",
       "    </tr>\n",
       "    <tr>\n",
       "      <th>3</th>\n",
       "      <td>US</td>\n",
       "      <td>52495923</td>\n",
       "      <td>R127K9NTSXA2YH</td>\n",
       "      <td>B00GOOSV98</td>\n",
       "      <td>23143350</td>\n",
       "      <td>GelTabz Performance Thumb Grips - PlayStation ...</td>\n",
       "      <td>Video Games</td>\n",
       "      <td>3</td>\n",
       "      <td>0</td>\n",
       "      <td>0</td>\n",
       "      <td>N</td>\n",
       "      <td>Y</td>\n",
       "      <td>good, but could be bettee</td>\n",
       "      <td>nice, but tend to slip away from stick in inte...</td>\n",
       "      <td>2015-08-31</td>\n",
       "    </tr>\n",
       "    <tr>\n",
       "      <th>4</th>\n",
       "      <td>US</td>\n",
       "      <td>14533949</td>\n",
       "      <td>R32ZWUXDJPW27Q</td>\n",
       "      <td>B00Y074JOM</td>\n",
       "      <td>821342511</td>\n",
       "      <td>Zero Suit Samus amiibo - Japan Import (Super S...</td>\n",
       "      <td>Video Games</td>\n",
       "      <td>4</td>\n",
       "      <td>0</td>\n",
       "      <td>0</td>\n",
       "      <td>N</td>\n",
       "      <td>Y</td>\n",
       "      <td>Great but flawed.</td>\n",
       "      <td>Great amiibo, great for collecting. Quality ma...</td>\n",
       "      <td>2015-08-31</td>\n",
       "    </tr>\n",
       "  </tbody>\n",
       "</table>\n",
       "</div>"
      ],
      "text/plain": [
       "  marketplace  customer_id       review_id  product_id  product_parent  \\\n",
       "0          US     12039526   RTIS3L2M1F5SM  B001CXYMFS       737716809   \n",
       "1          US      9636577   R1ZV7R40OLHKD  B00M920ND6       569686175   \n",
       "2          US      2331478  R3BH071QLH8QMC  B0029CSOD2        98937668   \n",
       "3          US     52495923  R127K9NTSXA2YH  B00GOOSV98        23143350   \n",
       "4          US     14533949  R32ZWUXDJPW27Q  B00Y074JOM       821342511   \n",
       "\n",
       "                                       product_title product_category  \\\n",
       "0         Thrustmaster T-Flight Hotas X Flight Stick      Video Games   \n",
       "1  Tonsee 6 buttons Wireless Optical Silent Gamin...      Video Games   \n",
       "2  Hidden Mysteries: Titanic Secrets of the Fatef...      Video Games   \n",
       "3  GelTabz Performance Thumb Grips - PlayStation ...      Video Games   \n",
       "4  Zero Suit Samus amiibo - Japan Import (Super S...      Video Games   \n",
       "\n",
       "   star_rating  helpful_votes  total_votes vine verified_purchase  \\\n",
       "0            5              0            0    N                 Y   \n",
       "1            5              0            0    N                 Y   \n",
       "2            1              0            1    N                 Y   \n",
       "3            3              0            0    N                 Y   \n",
       "4            4              0            0    N                 Y   \n",
       "\n",
       "                                     review_headline  \\\n",
       "0  an amazing joystick. I especially love that yo...   \n",
       "1  Definitely a silent mouse... Not a single clic...   \n",
       "2                                           One Star   \n",
       "3                          good, but could be bettee   \n",
       "4                                  Great but flawed.   \n",
       "\n",
       "                                         review_body review_date  \n",
       "0  Used this for Elite Dangerous on my mac, an am...  2015-08-31  \n",
       "1  Loved it,  I didn't even realise it was a gami...  2015-08-31  \n",
       "2     poor quality work and not as it is advertised.  2015-08-31  \n",
       "3  nice, but tend to slip away from stick in inte...  2015-08-31  \n",
       "4  Great amiibo, great for collecting. Quality ma...  2015-08-31  "
      ]
     },
     "execution_count": 3,
     "metadata": {},
     "output_type": "execute_result"
    }
   ],
   "source": [
    "# read data into pandas dataframe\n",
    "path = \"data/video_games.tsv.gz\"\n",
    "data_raw = pd.read_csv(path, sep=\"\\t\", parse_dates=[14], on_bad_lines=\"skip\")\n",
    "data_raw.head()"
   ]
  },
  {
   "cell_type": "markdown",
   "id": "0b5a0f93",
   "metadata": {},
   "source": [
    "### General Preprocessing\n",
    "Some general steps to further work with the data:\n",
    "* only use last two years of reviews, as the data set is very large and these are the most recent reviews\n",
    "* only use relevant columns, including the review headline, body and the star ratings\n",
    "* if the user did not write a headline for his review, Amazon automatically inserts the star ratings written out (\"Five Stars\", etc...) as a default headline. As this could be a false predictors for our model training, we filter these headlines by replacing with empty strings\n",
    "* concatenate the review headline and body"
   ]
  },
  {
   "cell_type": "code",
   "execution_count": 4,
   "id": "c9f33cdf",
   "metadata": {},
   "outputs": [
    {
     "data": {
      "text/html": [
       "<div>\n",
       "<style scoped>\n",
       "    .dataframe tbody tr th:only-of-type {\n",
       "        vertical-align: middle;\n",
       "    }\n",
       "\n",
       "    .dataframe tbody tr th {\n",
       "        vertical-align: top;\n",
       "    }\n",
       "\n",
       "    .dataframe thead th {\n",
       "        text-align: right;\n",
       "    }\n",
       "</style>\n",
       "<table border=\"1\" class=\"dataframe\">\n",
       "  <thead>\n",
       "    <tr style=\"text-align: right;\">\n",
       "      <th></th>\n",
       "      <th>full_review</th>\n",
       "      <th>star_rating</th>\n",
       "    </tr>\n",
       "  </thead>\n",
       "  <tbody>\n",
       "    <tr>\n",
       "      <th>0</th>\n",
       "      <td>an amazing joystick. I especially love that yo...</td>\n",
       "      <td>5</td>\n",
       "    </tr>\n",
       "    <tr>\n",
       "      <th>1</th>\n",
       "      <td>Definitely a silent mouse... Not a single clic...</td>\n",
       "      <td>5</td>\n",
       "    </tr>\n",
       "    <tr>\n",
       "      <th>2</th>\n",
       "      <td>poor quality work and not as it is advertised.</td>\n",
       "      <td>1</td>\n",
       "    </tr>\n",
       "    <tr>\n",
       "      <th>3</th>\n",
       "      <td>good, but could be bettee nice, but tend to sl...</td>\n",
       "      <td>3</td>\n",
       "    </tr>\n",
       "    <tr>\n",
       "      <th>4</th>\n",
       "      <td>Great but flawed. Great amiibo, great for coll...</td>\n",
       "      <td>4</td>\n",
       "    </tr>\n",
       "  </tbody>\n",
       "</table>\n",
       "</div>"
      ],
      "text/plain": [
       "                                         full_review  star_rating\n",
       "0  an amazing joystick. I especially love that yo...            5\n",
       "1  Definitely a silent mouse... Not a single clic...            5\n",
       "2     poor quality work and not as it is advertised.            1\n",
       "3  good, but could be bettee nice, but tend to sl...            3\n",
       "4  Great but flawed. Great amiibo, great for coll...            4"
      ]
     },
     "execution_count": 4,
     "metadata": {},
     "output_type": "execute_result"
    }
   ],
   "source": [
    "video_games = data_raw.copy()\n",
    "\n",
    "# filter by last two years based on review_date\n",
    "video_games['review_date'] = pd.to_datetime(video_games['review_date'])\n",
    "video_games = video_games[video_games['review_date'] >= datetime(2015, 1, 1)] # 8 months - maybe we need a full year? If so, we need to sample stratified from 2014-8-31\n",
    "\n",
    "# use only relevant columns\n",
    "video_games = video_games[[\"review_headline\", \"review_body\", \"star_rating\"]]\n",
    "\n",
    "# replace default star rating in headline with empty string as these could be false predictors\n",
    "mask = video_games['review_headline'].isin(['One Star', 'Two Stars', 'Three Stars', 'Four Stars', 'Five Stars'])\n",
    "video_games['review_headline'][mask] = ''\n",
    "\n",
    "# concat headline and review body\n",
    "video_games['full_review'] = video_games['review_headline'] + ' ' + video_games['review_body']\n",
    "video_games = video_games[['full_review', 'star_rating']]\n",
    "video_games.head()"
   ]
  },
  {
   "cell_type": "markdown",
   "id": "359cf9f2",
   "metadata": {},
   "source": [
    "### Train-Test Split\n",
    "\n",
    "Split data into seperate train and test split. The test size is not really relevant, as we have enough data and the training data will be further subsampled in the following steeps."
   ]
  },
  {
   "cell_type": "code",
   "execution_count": 5,
   "id": "1735d5bd",
   "metadata": {},
   "outputs": [
    {
     "name": "stdout",
     "output_type": "stream",
     "text": [
      "Train Split size: 165483\n",
      "Test Split size: 165483\n"
     ]
    }
   ],
   "source": [
    "train_df, test_df = train_test_split(video_games, test_size=0.5, stratify=video_games['star_rating'], random_state=42)\n",
    "print(f'Train Split size: {len(train_df)}')\n",
    "print(f'Test Split size: {len(test_df)}')"
   ]
  },
  {
   "cell_type": "markdown",
   "id": "8ad21779",
   "metadata": {},
   "source": [
    "### Subsampling\n",
    "\n",
    "With subsampling we limit the amount of data used for training due to processing power and model training time, as the original dataset has a lot of entries, even after splitting in train and test set. The sampling is both done in a stratified and balanced fashion, to evaluate the effects on model effectivity with the different sampling methods. No subsampling is done on the test set, to prevent any bias in model evaluation."
   ]
  },
  {
   "cell_type": "code",
   "execution_count": 6,
   "id": "7a94d370",
   "metadata": {},
   "outputs": [],
   "source": [
    "# Define the desired sampling size\n",
    "sample_size = 30000"
   ]
  },
  {
   "cell_type": "markdown",
   "id": "80c67a19",
   "metadata": {},
   "source": [
    "#### Stratified Sample\n",
    "Stratified Sample where the data distribution with respect to the star ratings is preserved"
   ]
  },
  {
   "cell_type": "code",
   "execution_count": 7,
   "id": "dfed6d6c",
   "metadata": {},
   "outputs": [
    {
     "data": {
      "image/png": "[encoded data removed]",
      "text/plain": [
       "<Figure size 640x480 with 1 Axes>"
      ]
     },
     "metadata": {},
     "output_type": "display_data"
    }
   ],
   "source": [
    "# Create a StratifiedShuffleSplit object\n",
    "stratified_split = StratifiedShuffleSplit(n_splits=1, test_size=sample_size, random_state=42)\n",
    "\n",
    "# Generate the indices for stratified sampling\n",
    "indices = stratified_split.split(train_df, train_df['star_rating'])\n",
    "\n",
    "# Extract the indices for the sampled records\n",
    "sampled_indices = next(indices)[1]\n",
    "\n",
    "# Create the sampled DataFrame based on the indices\n",
    "train_df_stratified = train_df.iloc[sampled_indices].reset_index(drop=False)\n",
    "\n",
    "\n",
    "# bar plot number of reviews per star rating\n",
    "train_df_stratified[\"star_rating\"].value_counts().sort_index().plot(kind=\"bar\", title=\"number of reviews per star rating (with stratified sampling)\")\n",
    "plt.show()"
   ]
  },
  {
   "cell_type": "markdown",
   "id": "f3ceb500",
   "metadata": {},
   "source": [
    "#### Balanced Sample\n",
    "\n",
    "Balanced Sample where the data distribution with respect to the star ratings is preserved, so that each class of star ratings has an equal amount of examples"
   ]
  },
  {
   "cell_type": "code",
   "execution_count": 8,
   "id": "93918787",
   "metadata": {},
   "outputs": [
    {
     "data": {
      "image/png": "[encoded data removed]",
      "text/plain": [
       "<Figure size 640x480 with 1 Axes>"
      ]
     },
     "metadata": {},
     "output_type": "display_data"
    }
   ],
   "source": [
    "ratings = train_df['star_rating'].unique()\n",
    "train_df_balanced = pd.DataFrame([])\n",
    "\n",
    "# divide dataset into five equally large samples for every rating\n",
    "for rating in ratings:\n",
    "  tmp = train_df[train_df['star_rating'] == rating].sample(int(sample_size/5), random_state= 42)\n",
    "  train_df_balanced = pd.concat([train_df_balanced, tmp])\n",
    "\n",
    "    \n",
    "# bar plot number of reviews per star rating\n",
    "train_df_balanced[\"star_rating\"].value_counts().sort_index().plot(kind=\"bar\", title=\"number of reviews per star rating (with balanced sampling)\")\n",
    "plt.show()"
   ]
  },
  {
   "cell_type": "markdown",
   "id": "b5e9e303",
   "metadata": {},
   "source": [
    "### Train-Validation Split\n",
    "The training data is further split into a validation set with size 0.3 for model learning and hyperparameter tuning"
   ]
  },
  {
   "cell_type": "code",
   "execution_count": 9,
   "id": "8fb36049",
   "metadata": {},
   "outputs": [
    {
     "name": "stdout",
     "output_type": "stream",
     "text": [
      "Test Split size: 165483\n",
      "\n",
      "------- Balanced Sample -------\n",
      "Train Split size: 21000\n",
      "Validation Split size: 9000\n",
      "\n",
      "------ Stratified Sample ------\n",
      "Train Split size: 21000\n",
      "Validation Split size: 9000\n"
     ]
    }
   ],
   "source": [
    "# create train and validation split (on balanced subsample)\n",
    "train_df_balanced, val_df_balanced = train_test_split(train_df_balanced, test_size=0.3, random_state=42)\n",
    "\n",
    "# create train and validation split (on stratified subsample)\n",
    "train_df_stratified, val_df_stratified = train_test_split(train_df_stratified, test_size=0.3, random_state=42)\n",
    "\n",
    "print(f'Test Split size: {len(test_df)}')\n",
    "print()\n",
    "print('------- Balanced Sample -------')\n",
    "print(f'Train Split size: {len(train_df_balanced)}')\n",
    "print(f'Validation Split size: {len(val_df_balanced)}')\n",
    "print()\n",
    "print('------ Stratified Sample ------')\n",
    "print(f'Train Split size: {len(train_df_stratified)}')\n",
    "print(f'Validation Split size: {len(val_df_stratified)}')"
   ]
  },
  {
   "cell_type": "markdown",
   "id": "c281cbc2",
   "metadata": {},
   "source": [
    "### Store Data\n",
    "\n",
    "To ensure comparability and reproducability with different model approaches, the test set and validation and trainings sets are stored and later used in training."
   ]
  },
  {
   "cell_type": "code",
   "execution_count": 10,
   "id": "d3f62a82",
   "metadata": {},
   "outputs": [],
   "source": [
    "# store balanced train and validation sets\n",
    "train_df_balanced.to_csv('data/balanced/train_balanced.csv', index=False)\n",
    "val_df_balanced.to_csv('data/balanced/val_balanced.csv', index=False)\n",
    "\n",
    "# store stratified train and validation sets\n",
    "train_df_stratified.to_csv('data/stratified/train_stratified.csv', index=False)\n",
    "val_df_stratified.to_csv('data/stratified/val_stratified.csv', index=False)\n",
    "\n",
    "# store test set\n",
    "test_df.to_csv('data/test.csv', index=False)"
   ]
  }
 ],
 "metadata": {
  "kernelspec": {
   "display_name": "Python 3 (ipykernel)",
   "language": "python",
   "name": "python3"
  },
  "language_info": {
   "codemirror_mode": {
    "name": "ipython",
    "version": 3
   },
   "file_extension": ".py",
   "mimetype": "text/x-python",
   "name": "python",
   "nbconvert_exporter": "python",
   "pygments_lexer": "ipython3",
   "version": "3.11.3"
  }
 },
 "nbformat": 4,
 "nbformat_minor": 5
}
