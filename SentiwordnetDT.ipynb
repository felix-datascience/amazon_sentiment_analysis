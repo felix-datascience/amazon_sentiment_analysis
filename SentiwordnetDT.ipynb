{
 "cells": [
  {
   "cell_type": "code",
   "execution_count": 1,
   "id": "7be5595f",
   "metadata": {},
   "outputs": [],
   "source": [
    "import nltk\n",
    "import pandas as pd\n",
    "from nltk.corpus import sentiwordnet as swn\n",
    "from nltk.tokenize import word_tokenize\n",
    "from sklearn.ensemble import RandomForestClassifier\n",
    "from sklearn.feature_extraction.text import CountVectorizer\n",
    "from sklearn.metrics import accuracy_score\n",
    "import re\n",
    "from sklearn.metrics import f1_score\n",
    "import optuna"
   ]
  },
  {
   "cell_type": "code",
   "execution_count": 2,
   "id": "dab4d10c",
   "metadata": {},
   "outputs": [],
   "source": [
    "#Load Datasets\n",
    "train_balanced = pd.read_csv(\"C:/Users/aminm/OneDrive/Desktop/Uni MA Master/2. Semester/Web Mining/Web Mining Project/data/balanced/train_balanced.csv\")\n",
    "val_balanced = pd.read_csv(\"C:/Users/aminm/OneDrive/Desktop/Uni MA Master/2. Semester/Web Mining/Web Mining Project/data/balanced/val_balanced.csv\")\n",
    "\n",
    "train_stratified = pd.read_csv(\"C:/Users/aminm/OneDrive/Desktop/Uni MA Master/2. Semester/Web Mining/Web Mining Project/data/stratified/train_stratified.csv\")\n",
    "val_stratified = pd.read_csv(\"C:/Users/aminm/OneDrive/Desktop/Uni MA Master/2. Semester/Web Mining/Web Mining Project/data/stratified/val_stratified.csv\")\n",
    "\n",
    "test = pd.read_csv(\"C:/Users/aminm/OneDrive/Desktop/Uni MA Master/2. Semester/Web Mining/Web Mining Project/data/test.csv\")"
   ]
  },
  {
   "cell_type": "code",
   "execution_count": 3,
   "id": "ddd7d363",
   "metadata": {},
   "outputs": [
    {
     "name": "stderr",
     "output_type": "stream",
     "text": [
      "[nltk_data] Downloading package punkt to\n",
      "[nltk_data]     C:\\Users\\aminm\\AppData\\Roaming\\nltk_data...\n",
      "[nltk_data]   Package punkt is already up-to-date!\n",
      "[nltk_data] Downloading package averaged_perceptron_tagger to\n",
      "[nltk_data]     C:\\Users\\aminm\\AppData\\Roaming\\nltk_data...\n",
      "[nltk_data]   Package averaged_perceptron_tagger is already up-to-\n",
      "[nltk_data]       date!\n",
      "[nltk_data] Downloading package stopwords to\n",
      "[nltk_data]     C:\\Users\\aminm\\AppData\\Roaming\\nltk_data...\n",
      "[nltk_data]   Package stopwords is already up-to-date!\n"
     ]
    }
   ],
   "source": [
    "nltk.download('punkt')\n",
    "nltk.download('averaged_perceptron_tagger')\n",
    "nltk.download('stopwords')\n",
    "\n",
    "stop_words = set(nltk.corpus.stopwords.words('english'))\n",
    "\n",
    "def remove_spec_char(text):\n",
    "    text = str(text)\n",
    "    text = re.sub('[^a-zA-Z0-9]', ' ', text)\n",
    "    text = re.sub('\\s+', ' ', text)\n",
    "    return text\n",
    "\n",
    "def preprocess_text(text):\n",
    "    tokens = word_tokenize(text.lower())\n",
    "    tokens = [token for token in tokens if token.isalpha()]\n",
    "    tokens = [token for token in tokens if token not in stop_words]\n",
    "    return ' '.join(tokens)"
   ]
  },
  {
   "cell_type": "code",
   "execution_count": 4,
   "id": "4ec697b8",
   "metadata": {},
   "outputs": [],
   "source": [
    "#apply remove_spec_char\n",
    "train_balanced['full_review'] = train_balanced['full_review'].apply(remove_spec_char)\n",
    "val_balanced['full_review'] = val_balanced['full_review'].apply(remove_spec_char)\n",
    "\n",
    "train_stratified['full_review'] = train_stratified['full_review'].apply(remove_spec_char)\n",
    "val_stratified['full_review'] = val_stratified['full_review'].apply(remove_spec_char)\n",
    "\n",
    "test['full_review'] = test['full_review'].apply(remove_spec_char)"
   ]
  },
  {
   "cell_type": "code",
   "execution_count": 5,
   "id": "1a052c87",
   "metadata": {},
   "outputs": [],
   "source": [
    "#apply preprocess_text\n",
    "train_balanced['full_review'] = train_balanced['full_review'].apply(preprocess_text)\n",
    "val_balanced['full_review'] = val_balanced['full_review'].apply(preprocess_text)\n",
    "\n",
    "train_stratified['full_review'] = train_stratified['full_review'].apply(preprocess_text)\n",
    "val_stratified['full_review'] = val_stratified['full_review'].apply(preprocess_text)\n",
    "\n",
    "test['full_review'] = test['full_review'].apply(preprocess_text)"
   ]
  },
  {
   "cell_type": "code",
   "execution_count": 6,
   "id": "a69ae741",
   "metadata": {},
   "outputs": [],
   "source": [
    "def get_sentiment_score(word):\n",
    "    synsets = list(swn.senti_synsets(word))\n",
    "    if not synsets:\n",
    "        return 0\n",
    "    return synsets[0].pos_score() - synsets[0].neg_score()\n",
    "\n",
    "def calculate_sentiment_score(text):\n",
    "    tokens = word_tokenize(text)\n",
    "    scores = [get_sentiment_score(token) for token in tokens]\n",
    "    return sum(scores)"
   ]
  },
  {
   "cell_type": "code",
   "execution_count": 7,
   "id": "a4efb093",
   "metadata": {},
   "outputs": [],
   "source": [
    "train_balanced['sentiment_score'] = train_balanced['full_review'].apply(calculate_sentiment_score)\n",
    "val_balanced['sentiment_score'] = val_balanced['full_review'].apply(calculate_sentiment_score)\n",
    "\n",
    "train_stratified['sentiment_score'] = train_stratified['full_review'].apply(calculate_sentiment_score)\n",
    "val_stratified['sentiment_score'] = val_stratified['full_review'].apply(calculate_sentiment_score)\n",
    "\n",
    "test['sentiment_score'] = test['full_review'].apply(calculate_sentiment_score)"
   ]
  },
  {
   "cell_type": "code",
   "execution_count": 8,
   "id": "3e690249",
   "metadata": {},
   "outputs": [
    {
     "data": {
      "text/html": [
       "<div>\n",
       "<style scoped>\n",
       "    .dataframe tbody tr th:only-of-type {\n",
       "        vertical-align: middle;\n",
       "    }\n",
       "\n",
       "    .dataframe tbody tr th {\n",
       "        vertical-align: top;\n",
       "    }\n",
       "\n",
       "    .dataframe thead th {\n",
       "        text-align: right;\n",
       "    }\n",
       "</style>\n",
       "<table border=\"1\" class=\"dataframe\">\n",
       "  <thead>\n",
       "    <tr style=\"text-align: right;\">\n",
       "      <th></th>\n",
       "      <th>full_review</th>\n",
       "      <th>star_rating</th>\n",
       "      <th>sentiment_score</th>\n",
       "    </tr>\n",
       "  </thead>\n",
       "  <tbody>\n",
       "    <tr>\n",
       "      <th>0</th>\n",
       "      <td>terminator enthusiasts gave game stars like te...</td>\n",
       "      <td>2</td>\n",
       "      <td>0.000</td>\n",
       "    </tr>\n",
       "    <tr>\n",
       "      <th>1</th>\n",
       "      <td>worked months kids tore worked months kids tor...</td>\n",
       "      <td>2</td>\n",
       "      <td>0.250</td>\n",
       "    </tr>\n",
       "    <tr>\n",
       "      <th>2</th>\n",
       "      <td>didnt work received full refund</td>\n",
       "      <td>2</td>\n",
       "      <td>0.000</td>\n",
       "    </tr>\n",
       "    <tr>\n",
       "      <th>3</th>\n",
       "      <td>really good graphics game really good graphics...</td>\n",
       "      <td>4</td>\n",
       "      <td>3.875</td>\n",
       "    </tr>\n",
       "    <tr>\n",
       "      <th>4</th>\n",
       "      <td>great band top snapped half great band top sna...</td>\n",
       "      <td>2</td>\n",
       "      <td>0.750</td>\n",
       "    </tr>\n",
       "  </tbody>\n",
       "</table>\n",
       "</div>"
      ],
      "text/plain": [
       "                                         full_review  star_rating  \\\n",
       "0  terminator enthusiasts gave game stars like te...            2   \n",
       "1  worked months kids tore worked months kids tor...            2   \n",
       "2                    didnt work received full refund            2   \n",
       "3  really good graphics game really good graphics...            4   \n",
       "4  great band top snapped half great band top sna...            2   \n",
       "\n",
       "   sentiment_score  \n",
       "0            0.000  \n",
       "1            0.250  \n",
       "2            0.000  \n",
       "3            3.875  \n",
       "4            0.750  "
      ]
     },
     "execution_count": 8,
     "metadata": {},
     "output_type": "execute_result"
    }
   ],
   "source": [
    "train_balanced.head()"
   ]
  },
  {
   "cell_type": "code",
   "execution_count": 16,
   "id": "f1c3911f",
   "metadata": {},
   "outputs": [],
   "source": [
    "# Prepare the feature and target variables\n",
    "X_train_bal = train_balanced[\"sentiment_score\"].array.reshape(-1, 1)\n",
    "y_train_bal = train_balanced[\"star_rating\"]\n",
    "X_val_bal = val_balanced[\"sentiment_score\"].array.reshape(-1, 1)\n",
    "y_val_bal = val_balanced[\"star_rating\"]\n",
    "\n",
    "X_train_strat = train_stratified[\"sentiment_score\"].array.reshape(-1, 1)\n",
    "y_train_strat = train_stratified[\"star_rating\"]\n",
    "X_val_strat = val_stratified[\"sentiment_score\"].array.reshape(-1, 1)\n",
    "y_val_strat = val_stratified[\"star_rating\"]\n",
    "\n",
    "X_test = test[\"sentiment_score\"].array.reshape(-1, 1)\n",
    "y_test = test[\"star_rating\"]"
   ]
  },
  {
   "cell_type": "code",
   "execution_count": 12,
   "id": "c81a1359",
   "metadata": {},
   "outputs": [
    {
     "name": "stderr",
     "output_type": "stream",
     "text": [
      "\u001b[32m[I 2023-05-23 21:52:47,101]\u001b[0m A new study created in memory with name: no-name-d1e8925f-35dc-4fb1-aea7-2ea87bad1841\u001b[0m\n",
      "\u001b[32m[I 2023-05-23 21:52:48,625]\u001b[0m Trial 0 finished with value: 0.6624444444444444 and parameters: {'n_estimators': 271, 'max_depth': 6, 'min_samples_split': 10}. Best is trial 0 with value: 0.6624444444444444.\u001b[0m\n",
      "\u001b[32m[I 2023-05-23 21:52:50,194]\u001b[0m Trial 1 finished with value: 0.6625555555555556 and parameters: {'n_estimators': 293, 'max_depth': 7, 'min_samples_split': 5}. Best is trial 1 with value: 0.6625555555555556.\u001b[0m\n",
      "\u001b[32m[I 2023-05-23 21:52:51,790]\u001b[0m Trial 2 finished with value: 0.6634444444444444 and parameters: {'n_estimators': 340, 'max_depth': 5, 'min_samples_split': 10}. Best is trial 2 with value: 0.6634444444444444.\u001b[0m\n",
      "\u001b[32m[I 2023-05-23 21:52:53,720]\u001b[0m Trial 3 finished with value: 0.664 and parameters: {'n_estimators': 481, 'max_depth': 3, 'min_samples_split': 5}. Best is trial 3 with value: 0.664.\u001b[0m\n",
      "\u001b[32m[I 2023-05-23 21:52:54,385]\u001b[0m Trial 4 finished with value: 0.6615555555555556 and parameters: {'n_estimators': 116, 'max_depth': 9, 'min_samples_split': 7}. Best is trial 3 with value: 0.664.\u001b[0m\n",
      "\u001b[32m[I 2023-05-23 21:52:57,975]\u001b[0m Trial 5 finished with value: 0.6638888888888889 and parameters: {'n_estimators': 787, 'max_depth': 4, 'min_samples_split': 2}. Best is trial 3 with value: 0.664.\u001b[0m\n",
      "\u001b[32m[I 2023-05-23 21:52:59,762]\u001b[0m Trial 6 finished with value: 0.6637777777777778 and parameters: {'n_estimators': 382, 'max_depth': 5, 'min_samples_split': 7}. Best is trial 3 with value: 0.664.\u001b[0m\n",
      "\u001b[32m[I 2023-05-23 21:53:00,795]\u001b[0m Trial 7 finished with value: 0.6625555555555556 and parameters: {'n_estimators': 224, 'max_depth': 6, 'min_samples_split': 7}. Best is trial 3 with value: 0.664.\u001b[0m\n",
      "\u001b[32m[I 2023-05-23 21:53:05,164]\u001b[0m Trial 8 finished with value: 0.6622222222222223 and parameters: {'n_estimators': 875, 'max_depth': 7, 'min_samples_split': 9}. Best is trial 3 with value: 0.664.\u001b[0m\n",
      "\u001b[32m[I 2023-05-23 21:53:06,900]\u001b[0m Trial 9 finished with value: 0.6637777777777778 and parameters: {'n_estimators': 381, 'max_depth': 5, 'min_samples_split': 8}. Best is trial 3 with value: 0.664.\u001b[0m\n",
      "\u001b[32m[I 2023-05-23 21:53:09,307]\u001b[0m Trial 10 finished with value: 0.664 and parameters: {'n_estimators': 623, 'max_depth': 3, 'min_samples_split': 4}. Best is trial 3 with value: 0.664.\u001b[0m\n",
      "\u001b[32m[I 2023-05-23 21:53:11,770]\u001b[0m Trial 11 finished with value: 0.664 and parameters: {'n_estimators': 624, 'max_depth': 3, 'min_samples_split': 4}. Best is trial 3 with value: 0.664.\u001b[0m\n",
      "\u001b[32m[I 2023-05-23 21:53:14,191]\u001b[0m Trial 12 finished with value: 0.664 and parameters: {'n_estimators': 610, 'max_depth': 3, 'min_samples_split': 3}. Best is trial 3 with value: 0.664.\u001b[0m\n",
      "\u001b[32m[I 2023-05-23 21:53:16,432]\u001b[0m Trial 13 finished with value: 0.664 and parameters: {'n_estimators': 530, 'max_depth': 3, 'min_samples_split': 5}. Best is trial 3 with value: 0.664.\u001b[0m\n",
      "\u001b[32m[I 2023-05-23 21:53:20,522]\u001b[0m Trial 14 finished with value: 0.6615555555555556 and parameters: {'n_estimators': 738, 'max_depth': 10, 'min_samples_split': 5}. Best is trial 3 with value: 0.664.\u001b[0m\n",
      "\u001b[32m[I 2023-05-23 21:53:24,980]\u001b[0m Trial 15 finished with value: 0.6637777777777778 and parameters: {'n_estimators': 994, 'max_depth': 4, 'min_samples_split': 3}. Best is trial 3 with value: 0.664.\u001b[0m\n",
      "\u001b[32m[I 2023-05-23 21:53:27,592]\u001b[0m Trial 16 finished with value: 0.6618888888888889 and parameters: {'n_estimators': 490, 'max_depth': 8, 'min_samples_split': 4}. Best is trial 3 with value: 0.664.\u001b[0m\n",
      "\u001b[32m[I 2023-05-23 21:53:29,771]\u001b[0m Trial 17 finished with value: 0.664 and parameters: {'n_estimators': 488, 'max_depth': 4, 'min_samples_split': 6}. Best is trial 3 with value: 0.664.\u001b[0m\n",
      "\u001b[32m[I 2023-05-23 21:53:31,729]\u001b[0m Trial 18 finished with value: 0.664 and parameters: {'n_estimators': 451, 'max_depth': 4, 'min_samples_split': 6}. Best is trial 3 with value: 0.664.\u001b[0m\n",
      "\u001b[32m[I 2023-05-23 21:53:35,048]\u001b[0m Trial 19 finished with value: 0.6641111111111111 and parameters: {'n_estimators': 738, 'max_depth': 4, 'min_samples_split': 6}. Best is trial 19 with value: 0.6641111111111111.\u001b[0m\n",
      "\u001b[32m[I 2023-05-23 21:53:38,512]\u001b[0m Trial 20 finished with value: 0.6636666666666666 and parameters: {'n_estimators': 736, 'max_depth': 5, 'min_samples_split': 8}. Best is trial 19 with value: 0.6641111111111111.\u001b[0m\n",
      "\u001b[32m[I 2023-05-23 21:53:41,399]\u001b[0m Trial 21 finished with value: 0.664 and parameters: {'n_estimators': 649, 'max_depth': 4, 'min_samples_split': 6}. Best is trial 19 with value: 0.6641111111111111.\u001b[0m\n",
      "\u001b[32m[I 2023-05-23 21:53:45,256]\u001b[0m Trial 22 finished with value: 0.664 and parameters: {'n_estimators': 862, 'max_depth': 4, 'min_samples_split': 4}. Best is trial 19 with value: 0.6641111111111111.\u001b[0m\n",
      "\u001b[32m[I 2023-05-23 21:53:48,097]\u001b[0m Trial 23 finished with value: 0.664 and parameters: {'n_estimators': 678, 'max_depth': 3, 'min_samples_split': 6}. Best is trial 19 with value: 0.6641111111111111.\u001b[0m\n",
      "\u001b[32m[I 2023-05-23 21:53:51,245]\u001b[0m Trial 24 finished with value: 0.6625555555555556 and parameters: {'n_estimators': 636, 'max_depth': 6, 'min_samples_split': 2}. Best is trial 19 with value: 0.6641111111111111.\u001b[0m\n",
      "\u001b[32m[I 2023-05-23 21:53:53,284]\u001b[0m Trial 25 finished with value: 0.6637777777777778 and parameters: {'n_estimators': 442, 'max_depth': 4, 'min_samples_split': 5}. Best is trial 19 with value: 0.6641111111111111.\u001b[0m\n",
      "\u001b[32m[I 2023-05-23 21:53:56,206]\u001b[0m Trial 26 finished with value: 0.664 and parameters: {'n_estimators': 704, 'max_depth': 3, 'min_samples_split': 3}. Best is trial 19 with value: 0.6641111111111111.\u001b[0m\n",
      "\u001b[32m[I 2023-05-23 21:53:58,410]\u001b[0m Trial 27 finished with value: 0.664 and parameters: {'n_estimators': 546, 'max_depth': 3, 'min_samples_split': 8}. Best is trial 19 with value: 0.6641111111111111.\u001b[0m\n",
      "\u001b[32m[I 2023-05-23 21:54:01,735]\u001b[0m Trial 28 finished with value: 0.664 and parameters: {'n_estimators': 838, 'max_depth': 3, 'min_samples_split': 7}. Best is trial 19 with value: 0.6641111111111111.\u001b[0m\n",
      "\u001b[32m[I 2023-05-23 21:54:05,544]\u001b[0m Trial 29 finished with value: 0.6627777777777778 and parameters: {'n_estimators': 822, 'max_depth': 6, 'min_samples_split': 7}. Best is trial 19 with value: 0.6641111111111111.\u001b[0m\n",
      "\u001b[32m[I 2023-05-23 21:54:09,778]\u001b[0m Trial 30 finished with value: 0.6635555555555556 and parameters: {'n_estimators': 948, 'max_depth': 5, 'min_samples_split': 3}. Best is trial 19 with value: 0.6641111111111111.\u001b[0m\n",
      "\u001b[32m[I 2023-05-23 21:54:12,085]\u001b[0m Trial 31 finished with value: 0.664 and parameters: {'n_estimators': 587, 'max_depth': 3, 'min_samples_split': 8}. Best is trial 19 with value: 0.6641111111111111.\u001b[0m\n",
      "\u001b[32m[I 2023-05-23 21:54:14,341]\u001b[0m Trial 32 finished with value: 0.664 and parameters: {'n_estimators': 558, 'max_depth': 3, 'min_samples_split': 9}. Best is trial 19 with value: 0.6641111111111111.\u001b[0m\n",
      "\u001b[32m[I 2023-05-23 21:54:18,468]\u001b[0m Trial 33 finished with value: 0.664 and parameters: {'n_estimators': 920, 'max_depth': 4, 'min_samples_split': 10}. Best is trial 19 with value: 0.6641111111111111.\u001b[0m\n",
      "\u001b[32m[I 2023-05-23 21:54:21,783]\u001b[0m Trial 34 finished with value: 0.6634444444444444 and parameters: {'n_estimators': 697, 'max_depth': 5, 'min_samples_split': 10}. Best is trial 19 with value: 0.6641111111111111.\u001b[0m\n",
      "\u001b[32m[I 2023-05-23 21:54:23,227]\u001b[0m Trial 35 finished with value: 0.6638888888888889 and parameters: {'n_estimators': 306, 'max_depth': 4, 'min_samples_split': 6}. Best is trial 19 with value: 0.6641111111111111.\u001b[0m\n",
      "\u001b[32m[I 2023-05-23 21:54:25,460]\u001b[0m Trial 36 finished with value: 0.6641111111111111 and parameters: {'n_estimators': 515, 'max_depth': 4, 'min_samples_split': 6}. Best is trial 19 with value: 0.6641111111111111.\u001b[0m\n",
      "\u001b[32m[I 2023-05-23 21:54:29,836]\u001b[0m Trial 37 finished with value: 0.6634444444444444 and parameters: {'n_estimators': 913, 'max_depth': 5, 'min_samples_split': 9}. Best is trial 19 with value: 0.6641111111111111.\u001b[0m\n",
      "\u001b[32m[I 2023-05-23 21:54:30,947]\u001b[0m Trial 38 finished with value: 0.664 and parameters: {'n_estimators': 230, 'max_depth': 4, 'min_samples_split': 6}. Best is trial 19 with value: 0.6641111111111111.\u001b[0m\n",
      "\u001b[32m[I 2023-05-23 21:54:34,824]\u001b[0m Trial 39 finished with value: 0.662 and parameters: {'n_estimators': 769, 'max_depth': 8, 'min_samples_split': 10}. Best is trial 19 with value: 0.6641111111111111.\u001b[0m\n"
     ]
    },
    {
     "name": "stderr",
     "output_type": "stream",
     "text": [
      "\u001b[32m[I 2023-05-23 21:54:38,679]\u001b[0m Trial 40 finished with value: 0.6625555555555556 and parameters: {'n_estimators': 794, 'max_depth': 6, 'min_samples_split': 7}. Best is trial 19 with value: 0.6641111111111111.\u001b[0m\n",
      "\u001b[32m[I 2023-05-23 21:54:41,516]\u001b[0m Trial 41 finished with value: 0.664 and parameters: {'n_estimators': 655, 'max_depth': 4, 'min_samples_split': 5}. Best is trial 19 with value: 0.6641111111111111.\u001b[0m\n",
      "\u001b[32m[I 2023-05-23 21:54:45,362]\u001b[0m Trial 42 finished with value: 0.6636666666666666 and parameters: {'n_estimators': 841, 'max_depth': 5, 'min_samples_split': 5}. Best is trial 19 with value: 0.6641111111111111.\u001b[0m\n",
      "\u001b[32m[I 2023-05-23 21:54:48,337]\u001b[0m Trial 43 finished with value: 0.6641111111111111 and parameters: {'n_estimators': 672, 'max_depth': 4, 'min_samples_split': 6}. Best is trial 19 with value: 0.6641111111111111.\u001b[0m\n",
      "\u001b[32m[I 2023-05-23 21:54:49,780]\u001b[0m Trial 44 finished with value: 0.6637777777777778 and parameters: {'n_estimators': 346, 'max_depth': 4, 'min_samples_split': 6}. Best is trial 19 with value: 0.6641111111111111.\u001b[0m\n",
      "\u001b[32m[I 2023-05-23 21:54:53,106]\u001b[0m Trial 45 finished with value: 0.6635555555555556 and parameters: {'n_estimators': 743, 'max_depth': 5, 'min_samples_split': 4}. Best is trial 19 with value: 0.6641111111111111.\u001b[0m\n",
      "\u001b[32m[I 2023-05-23 21:54:55,408]\u001b[0m Trial 46 finished with value: 0.664 and parameters: {'n_estimators': 536, 'max_depth': 3, 'min_samples_split': 8}. Best is trial 19 with value: 0.6641111111111111.\u001b[0m\n",
      "\u001b[32m[I 2023-05-23 21:54:58,483]\u001b[0m Trial 47 finished with value: 0.664 and parameters: {'n_estimators': 680, 'max_depth': 4, 'min_samples_split': 5}. Best is trial 19 with value: 0.6641111111111111.\u001b[0m\n",
      "\u001b[32m[I 2023-05-23 21:55:01,337]\u001b[0m Trial 48 finished with value: 0.6636666666666666 and parameters: {'n_estimators': 588, 'max_depth': 5, 'min_samples_split': 6}. Best is trial 19 with value: 0.6641111111111111.\u001b[0m\n",
      "\u001b[32m[I 2023-05-23 21:55:01,822]\u001b[0m Trial 49 finished with value: 0.664 and parameters: {'n_estimators': 110, 'max_depth': 3, 'min_samples_split': 7}. Best is trial 19 with value: 0.6641111111111111.\u001b[0m\n"
     ]
    }
   ],
   "source": [
    "#stratified\n",
    "\n",
    "# Define the objective function for Optuna\n",
    "def objective(trial):\n",
    "    # Define the search space of hyperparameters\n",
    "    n_estimators = trial.suggest_int('n_estimators', 100, 1000)\n",
    "    max_depth = trial.suggest_int('max_depth', 3, 10)\n",
    "    min_samples_split = trial.suggest_int('min_samples_split', 2, 10)\n",
    "    \n",
    "    # Initialize the random forest classifier with the sampled hyperparameters\n",
    "    clf_strat = RandomForestClassifier(\n",
    "        n_estimators=n_estimators,\n",
    "        max_depth=max_depth,\n",
    "        min_samples_split=min_samples_split\n",
    "    )\n",
    "    \n",
    "    # Train the classifier on the training set\n",
    "    clf_strat.fit(X_train_strat, y_train_strat)\n",
    "    \n",
    "    # Evaluate the classifier on the validation set\n",
    "    y_pred_strat = clf_strat.predict(X_val_strat)\n",
    "    f1 = f1_score(y_val_strat, y_pred_strat, average='micro')  # Calculate F1 score\n",
    "    \n",
    "    return f1\n",
    "\n",
    "\n",
    "# Create the Optuna study and optimize the objective function\n",
    "study_strat = optuna.create_study(direction='maximize')\n",
    "study_strat.optimize(objective, n_trials=50)"
   ]
  },
  {
   "cell_type": "code",
   "execution_count": 17,
   "id": "a591c7e4",
   "metadata": {},
   "outputs": [
    {
     "name": "stdout",
     "output_type": "stream",
     "text": [
      "Final F1 score on test set: 0.6674341170996416\n"
     ]
    }
   ],
   "source": [
    "# Get the best hyperparameters and retrain the model on the training set\n",
    "best_params_strat = study_strat.best_params\n",
    "best_clf_strat = RandomForestClassifier(**best_params_strat)\n",
    "best_clf_strat.fit(X_train_strat, y_train_strat)\n",
    "\n",
    "# Evaluate the final model on the test set\n",
    "y_pred_test_strat = best_clf_strat.predict(X_test)\n",
    "f1_test = f1_score(y_test, y_pred_test_strat, average='micro')\n",
    "print(\"Final F1 score on test set:\", f1_test)"
   ]
  },
  {
   "cell_type": "code",
   "execution_count": 18,
   "id": "319c3ac8",
   "metadata": {},
   "outputs": [
    {
     "name": "stderr",
     "output_type": "stream",
     "text": [
      "\u001b[32m[I 2023-05-23 21:58:53,283]\u001b[0m A new study created in memory with name: no-name-1ff20d24-6c7a-4b6d-9bcb-0408c3f0d476\u001b[0m\n",
      "\u001b[32m[I 2023-05-23 21:58:56,543]\u001b[0m Trial 0 finished with value: 0.27055555555555555 and parameters: {'n_estimators': 628, 'max_depth': 7, 'min_samples_split': 5}. Best is trial 0 with value: 0.27055555555555555.\u001b[0m\n",
      "\u001b[32m[I 2023-05-23 21:59:01,253]\u001b[0m Trial 1 finished with value: 0.26911111111111113 and parameters: {'n_estimators': 885, 'max_depth': 8, 'min_samples_split': 7}. Best is trial 0 with value: 0.27055555555555555.\u001b[0m\n",
      "\u001b[32m[I 2023-05-23 21:59:05,872]\u001b[0m Trial 2 finished with value: 0.2703333333333333 and parameters: {'n_estimators': 869, 'max_depth': 7, 'min_samples_split': 2}. Best is trial 0 with value: 0.27055555555555555.\u001b[0m\n",
      "\u001b[32m[I 2023-05-23 21:59:08,223]\u001b[0m Trial 3 finished with value: 0.27055555555555555 and parameters: {'n_estimators': 505, 'max_depth': 4, 'min_samples_split': 10}. Best is trial 0 with value: 0.27055555555555555.\u001b[0m\n",
      "\u001b[32m[I 2023-05-23 21:59:13,173]\u001b[0m Trial 4 finished with value: 0.2683333333333333 and parameters: {'n_estimators': 892, 'max_depth': 10, 'min_samples_split': 3}. Best is trial 0 with value: 0.27055555555555555.\u001b[0m\n",
      "\u001b[32m[I 2023-05-23 21:59:14,304]\u001b[0m Trial 5 finished with value: 0.2722222222222222 and parameters: {'n_estimators': 262, 'max_depth': 3, 'min_samples_split': 10}. Best is trial 5 with value: 0.2722222222222222.\u001b[0m\n",
      "\u001b[32m[I 2023-05-23 21:59:16,486]\u001b[0m Trial 6 finished with value: 0.2703333333333333 and parameters: {'n_estimators': 407, 'max_depth': 9, 'min_samples_split': 10}. Best is trial 5 with value: 0.2722222222222222.\u001b[0m\n",
      "\u001b[32m[I 2023-05-23 21:59:21,079]\u001b[0m Trial 7 finished with value: 0.27044444444444443 and parameters: {'n_estimators': 910, 'max_depth': 7, 'min_samples_split': 9}. Best is trial 5 with value: 0.2722222222222222.\u001b[0m\n",
      "\u001b[32m[I 2023-05-23 21:59:24,657]\u001b[0m Trial 8 finished with value: 0.26911111111111113 and parameters: {'n_estimators': 681, 'max_depth': 8, 'min_samples_split': 4}. Best is trial 5 with value: 0.2722222222222222.\u001b[0m\n",
      "\u001b[32m[I 2023-05-23 21:59:28,681]\u001b[0m Trial 9 finished with value: 0.2722222222222222 and parameters: {'n_estimators': 984, 'max_depth': 3, 'min_samples_split': 5}. Best is trial 5 with value: 0.2722222222222222.\u001b[0m\n",
      "\u001b[32m[I 2023-05-23 21:59:29,326]\u001b[0m Trial 10 finished with value: 0.273 and parameters: {'n_estimators': 126, 'max_depth': 5, 'min_samples_split': 8}. Best is trial 10 with value: 0.273.\u001b[0m\n",
      "\u001b[32m[I 2023-05-23 21:59:29,844]\u001b[0m Trial 11 finished with value: 0.2722222222222222 and parameters: {'n_estimators': 108, 'max_depth': 5, 'min_samples_split': 8}. Best is trial 10 with value: 0.273.\u001b[0m\n",
      "\u001b[32m[I 2023-05-23 21:59:30,550]\u001b[0m Trial 12 finished with value: 0.2708888888888889 and parameters: {'n_estimators': 135, 'max_depth': 5, 'min_samples_split': 8}. Best is trial 10 with value: 0.273.\u001b[0m\n",
      "\u001b[32m[I 2023-05-23 21:59:31,748]\u001b[0m Trial 13 finished with value: 0.2722222222222222 and parameters: {'n_estimators': 288, 'max_depth': 3, 'min_samples_split': 7}. Best is trial 10 with value: 0.273.\u001b[0m\n",
      "\u001b[32m[I 2023-05-23 21:59:33,165]\u001b[0m Trial 14 finished with value: 0.2717777777777778 and parameters: {'n_estimators': 255, 'max_depth': 5, 'min_samples_split': 9}. Best is trial 10 with value: 0.273.\u001b[0m\n",
      "\u001b[32m[I 2023-05-23 21:59:34,365]\u001b[0m Trial 15 finished with value: 0.27055555555555555 and parameters: {'n_estimators': 262, 'max_depth': 4, 'min_samples_split': 9}. Best is trial 10 with value: 0.273.\u001b[0m\n",
      "\u001b[32m[I 2023-05-23 21:59:36,458]\u001b[0m Trial 16 finished with value: 0.27055555555555555 and parameters: {'n_estimators': 418, 'max_depth': 4, 'min_samples_split': 7}. Best is trial 10 with value: 0.273.\u001b[0m\n",
      "\u001b[32m[I 2023-05-23 21:59:37,478]\u001b[0m Trial 17 finished with value: 0.271 and parameters: {'n_estimators': 203, 'max_depth': 6, 'min_samples_split': 6}. Best is trial 10 with value: 0.273.\u001b[0m\n",
      "\u001b[32m[I 2023-05-23 21:59:39,110]\u001b[0m Trial 18 finished with value: 0.2722222222222222 and parameters: {'n_estimators': 350, 'max_depth': 3, 'min_samples_split': 7}. Best is trial 10 with value: 0.273.\u001b[0m\n",
      "\u001b[32m[I 2023-05-23 21:59:43,169]\u001b[0m Trial 19 finished with value: 0.27044444444444443 and parameters: {'n_estimators': 746, 'max_depth': 6, 'min_samples_split': 5}. Best is trial 10 with value: 0.273.\u001b[0m\n",
      "\u001b[32m[I 2023-05-23 21:59:46,946]\u001b[0m Trial 20 finished with value: 0.27055555555555555 and parameters: {'n_estimators': 768, 'max_depth': 4, 'min_samples_split': 5}. Best is trial 10 with value: 0.273.\u001b[0m\n",
      "\u001b[32m[I 2023-05-23 21:59:48,733]\u001b[0m Trial 21 finished with value: 0.2722222222222222 and parameters: {'n_estimators': 364, 'max_depth': 3, 'min_samples_split': 8}. Best is trial 10 with value: 0.273.\u001b[0m\n",
      "\u001b[32m[I 2023-05-23 21:59:50,109]\u001b[0m Trial 22 finished with value: 0.2722222222222222 and parameters: {'n_estimators': 329, 'max_depth': 3, 'min_samples_split': 7}. Best is trial 10 with value: 0.273.\u001b[0m\n",
      "\u001b[32m[I 2023-05-23 21:59:50,585]\u001b[0m Trial 23 finished with value: 0.27144444444444443 and parameters: {'n_estimators': 102, 'max_depth': 5, 'min_samples_split': 8}. Best is trial 10 with value: 0.273.\u001b[0m\n",
      "\u001b[32m[I 2023-05-23 21:59:51,285]\u001b[0m Trial 24 finished with value: 0.2718888888888889 and parameters: {'n_estimators': 131, 'max_depth': 5, 'min_samples_split': 8}. Best is trial 10 with value: 0.273.\u001b[0m\n",
      "\u001b[32m[I 2023-05-23 21:59:53,706]\u001b[0m Trial 25 finished with value: 0.2707777777777778 and parameters: {'n_estimators': 505, 'max_depth': 4, 'min_samples_split': 6}. Best is trial 10 with value: 0.273.\u001b[0m\n",
      "\u001b[32m[I 2023-05-23 21:59:55,243]\u001b[0m Trial 26 finished with value: 0.2722222222222222 and parameters: {'n_estimators': 359, 'max_depth': 3, 'min_samples_split': 9}. Best is trial 10 with value: 0.273.\u001b[0m\n",
      "\u001b[32m[I 2023-05-23 21:59:56,324]\u001b[0m Trial 27 finished with value: 0.27044444444444443 and parameters: {'n_estimators': 197, 'max_depth': 6, 'min_samples_split': 7}. Best is trial 10 with value: 0.273.\u001b[0m\n",
      "\u001b[32m[I 2023-05-23 21:59:57,734]\u001b[0m Trial 28 finished with value: 0.27055555555555555 and parameters: {'n_estimators': 307, 'max_depth': 4, 'min_samples_split': 6}. Best is trial 10 with value: 0.273.\u001b[0m\n",
      "\u001b[32m[I 2023-05-23 21:59:58,617]\u001b[0m Trial 29 finished with value: 0.2722222222222222 and parameters: {'n_estimators': 198, 'max_depth': 3, 'min_samples_split': 10}. Best is trial 10 with value: 0.273.\u001b[0m\n",
      "\u001b[32m[I 2023-05-23 21:59:59,580]\u001b[0m Trial 30 finished with value: 0.27066666666666667 and parameters: {'n_estimators': 188, 'max_depth': 4, 'min_samples_split': 9}. Best is trial 10 with value: 0.273.\u001b[0m\n",
      "\u001b[32m[I 2023-05-23 22:00:02,034]\u001b[0m Trial 31 finished with value: 0.2722222222222222 and parameters: {'n_estimators': 563, 'max_depth': 3, 'min_samples_split': 4}. Best is trial 10 with value: 0.273.\u001b[0m\n",
      "\u001b[32m[I 2023-05-23 22:00:04,613]\u001b[0m Trial 32 finished with value: 0.2722222222222222 and parameters: {'n_estimators': 584, 'max_depth': 3, 'min_samples_split': 4}. Best is trial 10 with value: 0.273.\u001b[0m\n",
      "\u001b[32m[I 2023-05-23 22:00:07,100]\u001b[0m Trial 33 finished with value: 0.2722222222222222 and parameters: {'n_estimators': 589, 'max_depth': 3, 'min_samples_split': 4}. Best is trial 10 with value: 0.273.\u001b[0m\n",
      "\u001b[32m[I 2023-05-23 22:00:09,158]\u001b[0m Trial 34 finished with value: 0.27055555555555555 and parameters: {'n_estimators': 457, 'max_depth': 4, 'min_samples_split': 2}. Best is trial 10 with value: 0.273.\u001b[0m\n",
      "\u001b[32m[I 2023-05-23 22:00:12,459]\u001b[0m Trial 35 finished with value: 0.26911111111111113 and parameters: {'n_estimators': 638, 'max_depth': 8, 'min_samples_split': 7}. Best is trial 10 with value: 0.273.\u001b[0m\n",
      "\u001b[32m[I 2023-05-23 22:00:13,275]\u001b[0m Trial 36 finished with value: 0.2728888888888889 and parameters: {'n_estimators': 153, 'max_depth': 5, 'min_samples_split': 7}. Best is trial 10 with value: 0.273.\u001b[0m\n",
      "\u001b[32m[I 2023-05-23 22:00:16,029]\u001b[0m Trial 37 finished with value: 0.27044444444444443 and parameters: {'n_estimators': 569, 'max_depth': 6, 'min_samples_split': 3}. Best is trial 10 with value: 0.273.\u001b[0m\n",
      "\u001b[32m[I 2023-05-23 22:00:18,013]\u001b[0m Trial 38 finished with value: 0.2708888888888889 and parameters: {'n_estimators': 356, 'max_depth': 7, 'min_samples_split': 9}. Best is trial 10 with value: 0.273.\u001b[0m\n"
     ]
    },
    {
     "name": "stderr",
     "output_type": "stream",
     "text": [
      "\u001b[32m[I 2023-05-23 22:00:18,886]\u001b[0m Trial 39 finished with value: 0.273 and parameters: {'n_estimators': 155, 'max_depth': 5, 'min_samples_split': 8}. Best is trial 10 with value: 0.273.\u001b[0m\n",
      "\u001b[32m[I 2023-05-23 22:00:19,817]\u001b[0m Trial 40 finished with value: 0.2687777777777778 and parameters: {'n_estimators': 164, 'max_depth': 10, 'min_samples_split': 6}. Best is trial 10 with value: 0.273.\u001b[0m\n",
      "\u001b[32m[I 2023-05-23 22:00:21,139]\u001b[0m Trial 41 finished with value: 0.27244444444444443 and parameters: {'n_estimators': 239, 'max_depth': 5, 'min_samples_split': 8}. Best is trial 10 with value: 0.273.\u001b[0m\n",
      "\u001b[32m[I 2023-05-23 22:00:22,383]\u001b[0m Trial 42 finished with value: 0.272 and parameters: {'n_estimators': 230, 'max_depth': 5, 'min_samples_split': 10}. Best is trial 10 with value: 0.273.\u001b[0m\n",
      "\u001b[32m[I 2023-05-23 22:00:23,185]\u001b[0m Trial 43 finished with value: 0.27044444444444443 and parameters: {'n_estimators': 156, 'max_depth': 6, 'min_samples_split': 8}. Best is trial 10 with value: 0.273.\u001b[0m\n",
      "\u001b[32m[I 2023-05-23 22:00:24,271]\u001b[0m Trial 44 finished with value: 0.27211111111111114 and parameters: {'n_estimators': 232, 'max_depth': 5, 'min_samples_split': 8}. Best is trial 10 with value: 0.273.\u001b[0m\n",
      "\u001b[32m[I 2023-05-23 22:00:25,928]\u001b[0m Trial 45 finished with value: 0.26966666666666667 and parameters: {'n_estimators': 303, 'max_depth': 8, 'min_samples_split': 7}. Best is trial 10 with value: 0.273.\u001b[0m\n",
      "\u001b[32m[I 2023-05-23 22:00:26,617]\u001b[0m Trial 46 finished with value: 0.27211111111111114 and parameters: {'n_estimators': 145, 'max_depth': 5, 'min_samples_split': 7}. Best is trial 10 with value: 0.273.\u001b[0m\n",
      "\u001b[32m[I 2023-05-23 22:00:27,931]\u001b[0m Trial 47 finished with value: 0.2708888888888889 and parameters: {'n_estimators': 242, 'max_depth': 7, 'min_samples_split': 8}. Best is trial 10 with value: 0.273.\u001b[0m\n",
      "\u001b[32m[I 2023-05-23 22:00:28,445]\u001b[0m Trial 48 finished with value: 0.2707777777777778 and parameters: {'n_estimators': 102, 'max_depth': 5, 'min_samples_split': 8}. Best is trial 10 with value: 0.273.\u001b[0m\n",
      "\u001b[32m[I 2023-05-23 22:00:30,577]\u001b[0m Trial 49 finished with value: 0.2708888888888889 and parameters: {'n_estimators': 413, 'max_depth': 6, 'min_samples_split': 9}. Best is trial 10 with value: 0.273.\u001b[0m\n"
     ]
    }
   ],
   "source": [
    "#balanced\n",
    "\n",
    "# Define the objective function for Optuna\n",
    "def objective(trial):\n",
    "    # Define the search space of hyperparameters\n",
    "    n_estimators = trial.suggest_int('n_estimators', 100, 1000)\n",
    "    max_depth = trial.suggest_int('max_depth', 3, 10)\n",
    "    min_samples_split = trial.suggest_int('min_samples_split', 2, 10)\n",
    "    \n",
    "    # Initialize the random forest classifier with the sampled hyperparameters\n",
    "    clf_bal = RandomForestClassifier(\n",
    "        n_estimators=n_estimators,\n",
    "        max_depth=max_depth,\n",
    "        min_samples_split=min_samples_split\n",
    "    )\n",
    "    \n",
    "    # Train the classifier on the training set\n",
    "    clf_bal.fit(X_train_bal, y_train_bal)\n",
    "    \n",
    "    # Evaluate the classifier on the validation set\n",
    "    y_pred_bal = clf_bal.predict(X_val_bal)\n",
    "    f1 = f1_score(y_val_bal, y_pred_bal, average='micro')  # Calculate F1 score\n",
    "    \n",
    "    return f1\n",
    "\n",
    "\n",
    "# Create the Optuna study and optimize the objective function\n",
    "study_bal = optuna.create_study(direction='maximize')\n",
    "study_bal.optimize(objective, n_trials=50)"
   ]
  },
  {
   "cell_type": "code",
   "execution_count": 21,
   "id": "ab613267",
   "metadata": {},
   "outputs": [
    {
     "name": "stdout",
     "output_type": "stream",
     "text": [
      "Final F1 score on test set: 0.4514965283443012\n"
     ]
    }
   ],
   "source": [
    "# Get the best hyperparameters and retrain the model on the training set\n",
    "best_params_bal = study_bal.best_params\n",
    "best_clf_bal = RandomForestClassifier(**best_params_bal)\n",
    "best_clf_bal.fit(X_train_bal, y_train_bal)\n",
    "\n",
    "# Evaluate the final model on the test set\n",
    "y_pred_test = best_clf_bal.predict(X_test)\n",
    "f1_test = f1_score(y_test, y_pred_test, average='micro')\n",
    "print(\"Final F1 score on test set:\", f1_test)"
   ]
  }
 ],
 "metadata": {
  "kernelspec": {
   "display_name": "Python 3 (ipykernel)",
   "language": "python",
   "name": "python3"
  },
  "language_info": {
   "codemirror_mode": {
    "name": "ipython",
    "version": 3
   },
   "file_extension": ".py",
   "mimetype": "text/x-python",
   "name": "python",
   "nbconvert_exporter": "python",
   "pygments_lexer": "ipython3",
   "version": "3.9.12"
  }
 },
 "nbformat": 4,
 "nbformat_minor": 5
}
